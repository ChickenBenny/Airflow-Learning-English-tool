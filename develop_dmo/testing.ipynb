{
 "cells": [
  {
   "cell_type": "code",
   "execution_count": 23,
   "metadata": {},
   "outputs": [],
   "source": [
    "import psycopg2\n",
    "import requests\n",
    "import json"
   ]
  },
  {
   "cell_type": "markdown",
   "metadata": {},
   "source": [
    "以下是在測試初始化DB的過程"
   ]
  },
  {
   "cell_type": "code",
   "execution_count": 34,
   "metadata": {},
   "outputs": [],
   "source": [
    "def get_api():\n",
    "    with open('./credentials/youtube_api.json', 'r') as fp:\n",
    "        token = json.load(fp)['token']\n",
    "        return token\n",
    "\n",
    "def get_information(video: str, api_key: str):\n",
    "    url_video = f'https://www.googleapis.com/youtube/v3/videos?id={video}&key={api_key}&part=snippet'\n",
    "    response_video = requests.get(url_video)\n",
    "    response_video = response_video.json()\n",
    "    \n",
    "    channelId = (response_video['items'][0]).get('snippet').get('channelId')\n",
    "    channelTitle = (response_video['items'][0]).get('snippet').get('channelTitle')\n",
    "    print(channelId, ' ', channelTitle)\n",
    "\n",
    "    url_channel = f'https://www.googleapis.com/youtube/v3/channels?part=contentDetails&id={channelId}&key={api_key}'\n",
    "    response_channel = requests.get(url_channel)\n",
    "    response_channel = response_channel.json()\n",
    "    \n",
    "\n",
    "    playListId = response_channel['items'][0].get('contentDetails').get('relatedPlaylists').get('uploads')\n",
    "\n",
    "    url_playlist = f'https://www.googleapis.com/youtube/v3/playlistItems?part=snippet,contentDetails,status&playlistId={playListId}&key={api_key}&maxResults=20'\n",
    "    response_playlist = requests.get(url_playlist)\n",
    "    response_playlist = response_playlist.json()\n",
    "\n",
    "    videoId = []\n",
    "    for info in response_playlist['items']:\n",
    "        video_id = info['contentDetails'].get('videoId')\n",
    "        videoId.append((channelId, video_id))\n",
    "    return channelId, channelTitle, playListId, videoId\n",
    "\n",
    "def insert_channel(channelId, playlistId, channelTitle):\n",
    "    connection = psycopg2.connect(\n",
    "                                database = \"airflow\",\n",
    "                                user = \"airflow\",\n",
    "                                password = \"airflow\",\n",
    "                                host = \"127.0.0.1\",\n",
    "                                port = '5432'\n",
    "                            )\n",
    "    cursor = connection.cursor()\n",
    "    query = f'''INSERT INTO \"channel\"(channel_id, playlist_id, channel_title) VALUES(%s, %s, %s)'''\n",
    "    cursor.execute(query, (channelId, playlistId, channelTitle))\n",
    "    connection.commit()\n",
    "    cursor.close()\n",
    "\n",
    "def insert_video(data):\n",
    "    connection = psycopg2.connect(\n",
    "                                database = \"airflow\",\n",
    "                                user = \"airflow\",\n",
    "                                password = \"airflow\",\n",
    "                                host = \"127.0.0.1\",\n",
    "                                port = '5432'\n",
    "                            )\n",
    "    cursor = connection.cursor()\n",
    "    query = f'''INSERT INTO video(channel_id, video_id) VALUES(%s, %s)'''\n",
    "    cursor.executemany(query, data)\n",
    "    connection.commit()\n",
    "    cursor.close()\n",
    "\n",
    "\n"
   ]
  },
  {
   "cell_type": "code",
   "execution_count": 33,
   "metadata": {},
   "outputs": [
    {
     "name": "stdout",
     "output_type": "stream",
     "text": [
      "UC8SL1DuWX8YpGe8Y781zq8A   Hey It's Dena\n"
     ]
    }
   ],
   "source": [
    "data = ['uLnmTXxpK0Q']\n",
    "token = get_api()\n",
    "for video in data:\n",
    "    channelId, channelTitle, playListId, videoId = get_information(video, token)\n",
    "    insert_channel(channelId, playListId, channelTitle)\n",
    "    # insert_video(videoId)"
   ]
  },
  {
   "cell_type": "code",
   "execution_count": 16,
   "metadata": {},
   "outputs": [
    {
     "data": {
      "text/plain": [
       "[('UCA33Z_T-w17Jf-4vnIwRGsQ', 'qxbvNeBwxuI'),\n",
       " ('UCA33Z_T-w17Jf-4vnIwRGsQ', '7Qlefvb1260'),\n",
       " ('UCA33Z_T-w17Jf-4vnIwRGsQ', '2bUyEcCFrRw'),\n",
       " ('UCA33Z_T-w17Jf-4vnIwRGsQ', 'wOLjyZSb3Ig'),\n",
       " ('UCA33Z_T-w17Jf-4vnIwRGsQ', 'vSmR5kOKPdY'),\n",
       " ('UCA33Z_T-w17Jf-4vnIwRGsQ', 'SIxdvnmIBJ0'),\n",
       " ('UCA33Z_T-w17Jf-4vnIwRGsQ', '7jadIik6Pm0'),\n",
       " ('UCA33Z_T-w17Jf-4vnIwRGsQ', 'D2qevhlkdHU'),\n",
       " ('UCA33Z_T-w17Jf-4vnIwRGsQ', '8vyJuXmrjA0'),\n",
       " ('UCA33Z_T-w17Jf-4vnIwRGsQ', 'aundT-ma3tg'),\n",
       " ('UCA33Z_T-w17Jf-4vnIwRGsQ', 'E-F3HvX_zQ8'),\n",
       " ('UCA33Z_T-w17Jf-4vnIwRGsQ', 'auA7-0YMZuI'),\n",
       " ('UCA33Z_T-w17Jf-4vnIwRGsQ', 'Ou1aa9wnsA0'),\n",
       " ('UCA33Z_T-w17Jf-4vnIwRGsQ', '9yybcjDqxMM'),\n",
       " ('UCA33Z_T-w17Jf-4vnIwRGsQ', 'wWIFbdOLfFM'),\n",
       " ('UCA33Z_T-w17Jf-4vnIwRGsQ', 'fRO8mJIRays'),\n",
       " ('UCA33Z_T-w17Jf-4vnIwRGsQ', 'zN32UPb2TdI'),\n",
       " ('UCA33Z_T-w17Jf-4vnIwRGsQ', 'aInwKp5DAv0'),\n",
       " ('UCA33Z_T-w17Jf-4vnIwRGsQ', 'rLhprM2rwFE'),\n",
       " ('UCA33Z_T-w17Jf-4vnIwRGsQ', 'JnVzHeoBmyI')]"
      ]
     },
     "execution_count": 16,
     "metadata": {},
     "output_type": "execute_result"
    }
   ],
   "source": [
    "videoId"
   ]
  },
  {
   "cell_type": "markdown",
   "metadata": {},
   "source": [
    "以下是開發定期查找是否有新影片的過程"
   ]
  },
  {
   "cell_type": "code",
   "execution_count": 41,
   "metadata": {},
   "outputs": [
    {
     "name": "stdout",
     "output_type": "stream",
     "text": [
      "[('UCWv5gTeR3eEukPgMNBmWJvw', 'UUWv5gTeR3eEukPgMNBmWJvw', 'Chen Lily'), ('UC_LTk4kwxHI0Tj0568u7cxg', 'UU_LTk4kwxHI0Tj0568u7cxg', 'Lillian Chiu'), ('UC8SL1DuWX8YpGe8Y781zq8A', 'UU8SL1DuWX8YpGe8Y781zq8A', \"Hey It's Dena\")]\n"
     ]
    }
   ],
   "source": [
    "connection = psycopg2.connect(\n",
    "                            database = \"airflow\",\n",
    "                            user = \"airflow\",\n",
    "                            password = \"airflow\",\n",
    "                            host = \"127.0.0.1\",\n",
    "                            port = '5432'\n",
    "                        )\n",
    "cursor = connection.cursor()\n",
    "query = f'''SELECT channel_id, playlist_id, channel_title FROM channel;'''\n",
    "cursor.execute(query)\n",
    "flag = cursor.fetchall()\n",
    "cursor.close()\n",
    "print(flag)    "
   ]
  },
  {
   "cell_type": "code",
   "execution_count": 38,
   "metadata": {},
   "outputs": [
    {
     "name": "stdout",
     "output_type": "stream",
     "text": [
      "true\n"
     ]
    }
   ],
   "source": [
    "if flag:\n",
    "    print(\"true\")"
   ]
  },
  {
   "cell_type": "code",
   "execution_count": 42,
   "metadata": {},
   "outputs": [],
   "source": [
    "def get_api():\n",
    "    with open('./credentials/youtube_api.json', 'r') as fp:\n",
    "        token = json.load(fp)['token']\n",
    "        return token\n",
    "\n",
    "def check_video_is_exit(video_id):\n",
    "    connection = psycopg2.connect(\n",
    "                            database = \"airflow\",\n",
    "                            user = \"airflow\",\n",
    "                            password = \"airflow\",\n",
    "                            host = \"127.0.0.1\",\n",
    "                            port = '5432'\n",
    "                        )\n",
    "    cursor = connection.cursor()\n",
    "    query = f'''SELECT video_id FROM video WHERE video_id = '{video_id}';''' \n",
    "    cursor.execute(query)\n",
    "    if cursor.fetchall():\n",
    "        return True\n",
    "    else:\n",
    "        return False"
   ]
  },
  {
   "cell_type": "code",
   "execution_count": 43,
   "metadata": {},
   "outputs": [
    {
     "name": "stdout",
     "output_type": "stream",
     "text": [
      "insert DB\n"
     ]
    }
   ],
   "source": [
    "token = get_api()\n",
    "video_do_not_store = []\n",
    "for info in flag:\n",
    "    channel_id = info[0]\n",
    "    playlist_id = info[1]\n",
    "    url_playlist = f'https://www.googleapis.com/youtube/v3/playlistItems?part=snippet,contentDetails,status&playlistId={playlist_id}&key={token}&maxResults=3'\n",
    "    response_playlist = requests.get(url_playlist)\n",
    "    response_playlist = response_playlist.json()\n",
    "    for info in response_playlist['items']:\n",
    "        video_id = info['contentDetails'].get('videoId')\n",
    "        if check_video_is_exit(video_id):\n",
    "            continue\n",
    "        else:\n",
    "            video_do_not_store.append((channel_id, video_id))\n",
    "if len(video_do_not_store) == 0:\n",
    "    print('do_nothing')\n",
    "else:\n",
    "    print('insert DB')"
   ]
  },
  {
   "cell_type": "code",
   "execution_count": 44,
   "metadata": {},
   "outputs": [
    {
     "data": {
      "text/plain": [
       "[('UCWv5gTeR3eEukPgMNBmWJvw', '6b-ZR2rAwEg')]"
      ]
     },
     "execution_count": 44,
     "metadata": {},
     "output_type": "execute_result"
    }
   ],
   "source": [
    "video_do_not_store"
   ]
  }
 ],
 "metadata": {
  "kernelspec": {
   "display_name": "Python 3.9.5 64-bit",
   "language": "python",
   "name": "python3"
  },
  "language_info": {
   "codemirror_mode": {
    "name": "ipython",
    "version": 3
   },
   "file_extension": ".py",
   "mimetype": "text/x-python",
   "name": "python",
   "nbconvert_exporter": "python",
   "pygments_lexer": "ipython3",
   "version": "3.9.5"
  },
  "orig_nbformat": 4,
  "vscode": {
   "interpreter": {
    "hash": "52634da84371cba311ea128a5ea7cdc41ff074b781779e754b270ff9f8153cee"
   }
  }
 },
 "nbformat": 4,
 "nbformat_minor": 2
}
