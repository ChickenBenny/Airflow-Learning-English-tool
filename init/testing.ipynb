{
 "cells": [
  {
   "cell_type": "code",
   "execution_count": 1,
   "metadata": {},
   "outputs": [],
   "source": [
    "import psycopg2\n",
    "import requests\n",
    "import json"
   ]
  },
  {
   "cell_type": "code",
   "execution_count": 20,
   "metadata": {},
   "outputs": [],
   "source": [
    "def get_api():\n",
    "    with open('./credentials/youtube_api.json', 'r') as fp:\n",
    "        token = json.load(fp)['token']\n",
    "        return token\n",
    "\n",
    "def get_information(video: str, api_key: str):\n",
    "    url_video = f'https://www.googleapis.com/youtube/v3/videos?id={video}&key={api_key}&part=snippet'\n",
    "    response_video = requests.get(url_video)\n",
    "    response_video = response_video.json()\n",
    "    \n",
    "    channelId = (response_video['items'][0]).get('snippet').get('channelId')\n",
    "    channelTitle = (response_video['items'][0]).get('snippet').get('channelTitle')\n",
    "    print(channelId, ' ', channelTitle)\n",
    "\n",
    "    url_channel = f'https://www.googleapis.com/youtube/v3/channels?part=contentDetails&id={channelId}&key={api_key}'\n",
    "    response_channel = requests.get(url_channel)\n",
    "    response_channel = response_channel.json()\n",
    "    \n",
    "\n",
    "    playListId = response_channel['items'][0].get('contentDetails').get('relatedPlaylists').get('uploads')\n",
    "\n",
    "    url_playlist = f'https://www.googleapis.com/youtube/v3/playlistItems?part=snippet,contentDetails,status&playlistId={playListId}&key={api_key}&maxResults=20'\n",
    "    response_playlist = requests.get(url_playlist)\n",
    "    response_playlist = response_playlist.json()\n",
    "\n",
    "    videoId = []\n",
    "    for info in response_playlist['items']:\n",
    "        video_id = info['contentDetails'].get('videoId')\n",
    "        videoId.append((channelId, video_id))\n",
    "    return channelId, channelTitle, videoId\n",
    "\n",
    "def insert_channel(channelId, channelTitle):\n",
    "    connection = psycopg2.connect(\n",
    "                                database = \"airflow\",\n",
    "                                user = \"airflow\",\n",
    "                                password = \"airflow\",\n",
    "                                host = \"127.0.0.1\",\n",
    "                                port = '5432'\n",
    "                            )\n",
    "    cursor = connection.cursor()\n",
    "    query = f'''INSERT INTO \"channel\"(channel_id, channel_title) VALUES('{channelId}', '{channelTitle}')'''\n",
    "    cursor.execute(query)\n",
    "    connection.commit()\n",
    "    cursor.close()\n",
    "\n",
    "def insert_video(data):\n",
    "    connection = psycopg2.connect(\n",
    "                                database = \"airflow\",\n",
    "                                user = \"airflow\",\n",
    "                                password = \"airflow\",\n",
    "                                host = \"127.0.0.1\",\n",
    "                                port = '5432'\n",
    "                            )\n",
    "    cursor = connection.cursor()\n",
    "    query = f'''INSERT INTO video(channel_id, video_id) VALUES(%s, %s)'''\n",
    "    cursor.executemany(query, data)\n",
    "    connection.commit()\n",
    "    cursor.close()\n",
    "\n",
    "\n"
   ]
  },
  {
   "cell_type": "code",
   "execution_count": 21,
   "metadata": {},
   "outputs": [
    {
     "name": "stdout",
     "output_type": "stream",
     "text": [
      "UCA33Z_T-w17Jf-4vnIwRGsQ   大傑亂剪\n"
     ]
    }
   ],
   "source": [
    "data = ['vSmR5kOKPdY']\n",
    "token = get_api()\n",
    "for video in data:\n",
    "    channelId, channelTitle, videoId = get_information(video, token)\n",
    "    # insert_channel(channelId, channelTitle)\n",
    "    insert_video(videoId)"
   ]
  },
  {
   "cell_type": "code",
   "execution_count": 16,
   "metadata": {},
   "outputs": [
    {
     "data": {
      "text/plain": [
       "[('UCA33Z_T-w17Jf-4vnIwRGsQ', 'qxbvNeBwxuI'),\n",
       " ('UCA33Z_T-w17Jf-4vnIwRGsQ', '7Qlefvb1260'),\n",
       " ('UCA33Z_T-w17Jf-4vnIwRGsQ', '2bUyEcCFrRw'),\n",
       " ('UCA33Z_T-w17Jf-4vnIwRGsQ', 'wOLjyZSb3Ig'),\n",
       " ('UCA33Z_T-w17Jf-4vnIwRGsQ', 'vSmR5kOKPdY'),\n",
       " ('UCA33Z_T-w17Jf-4vnIwRGsQ', 'SIxdvnmIBJ0'),\n",
       " ('UCA33Z_T-w17Jf-4vnIwRGsQ', '7jadIik6Pm0'),\n",
       " ('UCA33Z_T-w17Jf-4vnIwRGsQ', 'D2qevhlkdHU'),\n",
       " ('UCA33Z_T-w17Jf-4vnIwRGsQ', '8vyJuXmrjA0'),\n",
       " ('UCA33Z_T-w17Jf-4vnIwRGsQ', 'aundT-ma3tg'),\n",
       " ('UCA33Z_T-w17Jf-4vnIwRGsQ', 'E-F3HvX_zQ8'),\n",
       " ('UCA33Z_T-w17Jf-4vnIwRGsQ', 'auA7-0YMZuI'),\n",
       " ('UCA33Z_T-w17Jf-4vnIwRGsQ', 'Ou1aa9wnsA0'),\n",
       " ('UCA33Z_T-w17Jf-4vnIwRGsQ', '9yybcjDqxMM'),\n",
       " ('UCA33Z_T-w17Jf-4vnIwRGsQ', 'wWIFbdOLfFM'),\n",
       " ('UCA33Z_T-w17Jf-4vnIwRGsQ', 'fRO8mJIRays'),\n",
       " ('UCA33Z_T-w17Jf-4vnIwRGsQ', 'zN32UPb2TdI'),\n",
       " ('UCA33Z_T-w17Jf-4vnIwRGsQ', 'aInwKp5DAv0'),\n",
       " ('UCA33Z_T-w17Jf-4vnIwRGsQ', 'rLhprM2rwFE'),\n",
       " ('UCA33Z_T-w17Jf-4vnIwRGsQ', 'JnVzHeoBmyI')]"
      ]
     },
     "execution_count": 16,
     "metadata": {},
     "output_type": "execute_result"
    }
   ],
   "source": [
    "videoId"
   ]
  }
 ],
 "metadata": {
  "kernelspec": {
   "display_name": "Python 3.9.5 64-bit",
   "language": "python",
   "name": "python3"
  },
  "language_info": {
   "codemirror_mode": {
    "name": "ipython",
    "version": 3
   },
   "file_extension": ".py",
   "mimetype": "text/x-python",
   "name": "python",
   "nbconvert_exporter": "python",
   "pygments_lexer": "ipython3",
   "version": "3.9.5"
  },
  "orig_nbformat": 4,
  "vscode": {
   "interpreter": {
    "hash": "52634da84371cba311ea128a5ea7cdc41ff074b781779e754b270ff9f8153cee"
   }
  }
 },
 "nbformat": 4,
 "nbformat_minor": 2
}
